{
  "nbformat": 4,
  "nbformat_minor": 0,
  "metadata": {
    "colab": {
      "provenance": []
    },
    "kernelspec": {
      "name": "python3",
      "display_name": "Python 3"
    },
    "language_info": {
      "name": "python"
    }
  },
  "cells": [
    {
      "cell_type": "code",
      "execution_count": 8,
      "metadata": {
        "colab": {
          "base_uri": "https://localhost:8080/",
          "height": 488
        },
        "id": "A58pKTcypVNN",
        "outputId": "1ea8dad2-775f-4b69-dd3b-2d5b8257de34"
      },
      "outputs": [
        {
          "output_type": "stream",
          "name": "stdout",
          "text": [
            "Mean difference before mitigation: -0.08639898502188159\n",
            "Mean difference after mitigation: -1.1102230246251565e-16\n"
          ]
        },
        {
          "output_type": "display_data",
          "data": {
            "text/plain": [
              "<Figure size 640x480 with 1 Axes>"
            ],
            "image/png": "[encoded data removed]"
          },
          "metadata": {}
        }
      ],
      "source": [
        "!pip install aif360 matplotlib\n",
        "import pandas as pd\n",
        "from aif360.datasets import BinaryLabelDataset\n",
        "from aif360.metrics import BinaryLabelDatasetMetric\n",
        "from aif360.algorithms.preprocessing import Reweighing\n",
        "import matplotlib.pyplot as plt\n",
        "\n",
        "# 1. Load dataset using updated path\n",
        "path = \"/content/compas-scores-two-years.csv\"\n",
        "df = pd.read_csv(path)\n",
        "\n",
        "# 2. Select relevant columns and drop NaNs\n",
        "df = df[['age', 'race', 'sex', 'priors_count', 'two_year_recid']].dropna()\n",
        "\n",
        "# 3. Encode categorical values to numeric\n",
        "df['race_binary'] = df['race'].apply(lambda x: 1 if x.strip().lower() == 'caucasian' else 0)  # privileged = White\n",
        "df['sex_binary'] = df['sex'].apply(lambda x: 1 if x.strip().lower() == 'male' else 0)\n",
        "df['label'] = df['two_year_recid'].apply(lambda x: 1 if x == 1 else 0)\n",
        "\n",
        "# 4. Keep only numeric columns\n",
        "df_numeric = df[['age', 'priors_count', 'sex_binary', 'race_binary', 'label']].copy()\n",
        "\n",
        "# 5. Convert to BinaryLabelDataset\n",
        "compas_data = BinaryLabelDataset(\n",
        "    df=df_numeric,\n",
        "    label_names=['label'],\n",
        "    protected_attribute_names=['race_binary'],\n",
        "    favorable_label=0,  # 0 = no recidivism\n",
        "    unfavorable_label=1  # 1 = recidivism\n",
        ")\n",
        "\n",
        "# 6. Bias Metric BEFORE mitigation\n",
        "metric_before = BinaryLabelDatasetMetric(\n",
        "    compas_data,\n",
        "    privileged_groups=[{'race_binary': 1}],  # White\n",
        "    unprivileged_groups=[{'race_binary': 0}]  # Non-White\n",
        ")\n",
        "print(\"Mean difference before mitigation:\", metric_before.mean_difference())\n",
        "\n",
        "# 7. Apply Reweighing\n",
        "RW = Reweighing(\n",
        "    privileged_groups=[{'race_binary': 1}],\n",
        "    unprivileged_groups=[{'race_binary': 0}]\n",
        ")\n",
        "compas_transf = RW.fit_transform(compas_data)\n",
        "\n",
        "# 8. Bias Metric AFTER mitigation\n",
        "metric_after = BinaryLabelDatasetMetric(\n",
        "    compas_transf,\n",
        "    privileged_groups=[{'race_binary': 1}],\n",
        "    unprivileged_groups=[{'race_binary': 0}]\n",
        ")\n",
        "print(\"Mean difference after mitigation:\", metric_after.mean_difference())\n",
        "\n",
        "# 9. Visualization\n",
        "plt.bar(['Before', 'After'], [metric_before.mean_difference(), metric_after.mean_difference()])\n",
        "plt.title('Disparity in Mean Difference (Race)')\n",
        "plt.ylabel('Mean Difference')\n",
        "plt.show()\n"
      ]
    },
    {
      "cell_type": "markdown",
      "source": [
        "Bias Audit Report (COMPAS Dataset)\n",
        "Title: Bias Audit Using AI Fairness 360 on COMPAS Recidivism Dataset\n",
        "\n",
        "We conducted a fairness audit on the COMPAS two-year recidivism dataset to identify potential racial bias in risk predictions. The dataset includes demographic and criminal history features, with the target label indicating whether a person reoffended within two years.\n",
        "\n",
        "Our focus was on racial fairness, specifically comparing the treatment of Caucasian (privileged) and non-Caucasian (unprivileged) individuals. We used the race attribute to create a binary protected attribute and the two_year_recid field as the label for recidivism.\n",
        "\n",
        "The initial bias assessment showed a mean difference of -0.086, indicating that non-Caucasian individuals were more likely to be labeled as high risk compared to Caucasians. This negative mean difference confirms the presence of racial disparity, as it implies that the unprivileged group was treated less favorably.\n",
        "\n",
        "To mitigate this bias, we applied the Reweighing algorithm from IBM’s AI Fairness 360 toolkit. This technique adjusts instance weights during training to reduce the association between protected attributes and outcomes, without modifying the actual labels or features.\n",
        "\n",
        "After applying reweighing, the mean difference improved significantly to approximately 0.0, suggesting that the disparity in predicted recidivism between racial groups was effectively eliminated. A bar chart visualizing this shift clearly illustrates the positive impact of reweighing.\n",
        "\n",
        "While this result is encouraging, bias mitigation should not rely on a single metric. Further evaluations such as equal opportunity, false positive rate differences, and disparate impact ratios are recommended for a comprehensive audit.\n",
        "\n",
        "In conclusion, the audit demonstrated measurable bias in the original data and showed that algorithmic fairness interventions like reweighing can be effective in promoting ethical and equitable AI systems."
      ],
      "metadata": {
        "id": "udIFREpos3Zc"
      }
    },
    {
      "cell_type": "code",
      "metadata": {
        "id": "1f1cae7a"
      },
      "source": [],
      "execution_count": null,
      "outputs": []
    }
  ]
}